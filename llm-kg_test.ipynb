{
 "cells": [
  {
   "cell_type": "code",
   "execution_count": 3,
   "id": "79197d0a-0106-418f-bff2-24d1f0a661cf",
   "metadata": {},
   "outputs": [
    {
     "name": "stdout",
     "output_type": "stream",
     "text": [
      "24.b3a67e493e80490b7f3ee14aebcff5aa.2592000.1705078392.282335-44925845\n"
     ]
    }
   ],
   "source": [
    "import requests\n",
    "import json\n",
    "\n",
    "def get_access_token():\n",
    "    \"\"\"\n",
    "    使用 API Key，Secret Key 获取access_token，替换下列示例中的应用API Key、应用Secret Key\n",
    "    \"\"\"\n",
    "    api_key = 'GHjj6dvG4GtrwuDin5vl3Aiz'\n",
    "    secret_key = '9XoDIRwfOzZmDR3NYS3jgMvLKUbvnFPe'\n",
    "    url = f\"https://aip.baidubce.com/oauth/2.0/token?grant_type=client_credentials&client_id={api_key}&client_secret={secret_key}\"\n",
    "    \n",
    "    payload = json.dumps(\"\")\n",
    "    headers = {\n",
    "        'Content-Type': 'application/json',\n",
    "        'Accept': 'application/json'\n",
    "    }\n",
    "    \n",
    "    response = requests.request(\"POST\", url, headers=headers, data=payload)\n",
    "    return response.json().get(\"access_token\")\n",
    "\n",
    "print(get_access_token())"
   ]
  },
  {
   "cell_type": "code",
   "execution_count": 4,
   "id": "12a08f50-2c90-4258-93a4-163d0714e419",
   "metadata": {},
   "outputs": [
    {
     "name": "stdout",
     "output_type": "stream",
     "text": [
      "{\"id\":\"as-dz8hsk279d\",\"object\":\"chat.completion\",\"created\":1702486401,\"result\":\" Hello! My name is LLaMA, I'm a helpful and respectful assistant developed by Meta AI. My primary goal is to assist and provide accurate information to the best of my knowledge. I strive to be socially unbiased and positive in nature, and I avoid providing harmful, unethical, racist, sexist, toxic, dangerous, or illegal content. If a question does not make sense or is not factually coherent, I will explain why instead of providing an incorrect answer. If I don't know the answer to a question, I will not provide false information. Please feel free to ask me anything, and I will do my best to assist you.\",\"is_truncated\":false,\"need_clear_history\":false,\"usage\":{\"prompt_tokens\":3,\"completion_tokens\":139,\"total_tokens\":142}}\n"
     ]
    }
   ],
   "source": [
    "def send_massage(message):\n",
    "   \n",
    "    url = \"https://aip.baidubce.com/rpc/2.0/ai_custom/v1/wenxinworkshop/chat/llama_2_13b?access_token=\" + get_access_token()\n",
    "    \n",
    "    payload = json.dumps({\n",
    "        \"messages\": massages\n",
    "    })\n",
    "    headers = {\n",
    "        'Content-Type': 'application/json'\n",
    "    }\n",
    "    # print(response.text)    \n",
    "    return requests.request(\"POST\", url, headers=headers, data=payload)"
   ]
  },
  {
   "cell_type": "code",
   "execution_count": null,
   "id": "68cd178e-64d3-43bf-a759-097b0e1344bc",
   "metadata": {},
   "outputs": [],
   "source": [
    "system_prompt = \"\"\n",
    "massages = [\n",
    "    {\n",
    "        \"role\": \"user\",\n",
    "        \"content\": system_prompt\n",
    "    }, \n",
    "    {\n",
    "        \"role\": \"user\",\n",
    "        \"content\": content\n",
    "    }\n",
    "]"
   ]
  },
  {
   "cell_type": "code",
   "execution_count": null,
   "id": "d70e3368-dfa9-4333-80ad-f56d705354d1",
   "metadata": {},
   "outputs": [],
   "source": []
  }
 ],
 "metadata": {
  "kernelspec": {
   "display_name": "Python 3 (ipykernel)",
   "language": "python",
   "name": "python3"
  },
  "language_info": {
   "codemirror_mode": {
    "name": "ipython",
    "version": 3
   },
   "file_extension": ".py",
   "mimetype": "text/x-python",
   "name": "python",
   "nbconvert_exporter": "python",
   "pygments_lexer": "ipython3",
   "version": "3.11.4"
  }
 },
 "nbformat": 4,
 "nbformat_minor": 5
}
